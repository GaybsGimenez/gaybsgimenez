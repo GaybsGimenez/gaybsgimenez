{
  "nbformat": 4,
  "nbformat_minor": 0,
  "metadata": {
    "colab": {
      "name": "Untitled4.ipynb",
      "provenance": [],
      "collapsed_sections": []
    },
    "kernelspec": {
      "name": "python3",
      "display_name": "Python 3"
    },
    "language_info": {
      "name": "python"
    }
  },
  "cells": [
    {
      "cell_type": "markdown",
      "metadata": {
        "id": "ZTIcyLAESevJ"
      },
      "source": [
        "Exercícios\n",
        "1. Dados de interação de usuários com propagandas\n",
        "online\n",
        "Na lista propaganda_online abaixo, estão presente os dados de usuários que acessaram\n",
        "um determinado site e se o mesmo clicou em uma propaganda."
      ]
    },
    {
      "cell_type": "code",
      "metadata": {
        "id": "gi-7AQF0MHxR"
      },
      "source": [
        "propaganda_online = [\n",
        " {'tempo_gasto_site': 68.95, 'idade': 35, 'renda_area': 61833.90,\n",
        " 'tempo_gasto_internet': 256.09, 'cidade': 'Wrightburgh',\n",
        " 'pais': 'Tunisia', 'clicou_no_ad': 0\n",
        " },\n",
        " {'tempo_gasto_site': 80.23, 'idade': 31, 'renda_area': 68441.85,\n",
        " 'tempo_gasto_internet': 193.77, 'cidade': 'West Jodi',\n",
        " 'pais': 'Nauru', 'clicou_no_ad': 0\n",
        " },\n",
        " {'tempo_gasto_site': 69.47, 'idade': 26, 'renda_area': 59785.94,\n",
        " 'tempo_gasto_internet': 236.50, 'cidade': 'Davidton',\n",
        " 'pais': 'San Marino', 'clicou_no_ad': 0\n",
        " },\n",
        " {'tempo_gasto_site': 68.37, 'idade': 35, 'renda_area': 73889.99,\n",
        " 'tempo_gasto_internet': 225.58, 'cidade': 'South Manuel',\n",
        " 'pais': 'Iceland', 'clicou_no_ad': 0\n",
        " },\n",
        " {'tempo_gasto_site': 88.91, 'idade': 33, 'renda_area': 53852.85,\n",
        " 'tempo_gasto_internet': 208.36, 'cidade': 'Brandonstad',\n",
        " 'pais': 'Myanmar', 'clicou_no_ad': 0\n",
        " },\n",
        " {'tempo_gasto_site': None, 'idade': 48, 'renda_area': 24593.33,\n",
        " 'tempo_gasto_internet': 131.76, 'cidade': 'Port Jefferybury',\n",
        " 'pais': 'Australia', 'clicou_no_ad': 1\n",
        " },\n",
        " {'tempo_gasto_site': 74.53, 'idade': 30, 'renda_area': 68862.00,\n",
        " 'tempo_gasto_internet': 221.51, 'cidade': 'West Colin',\n",
        " 'pais': 'Grenada'},\n",
        " {'tempo_gasto_site': 69.88, 'idade': 20, 'renda_area': 55642.32,\n",
        " 'tempo_gasto_internet': 183.82, 'cidade': 'Ramirezton',\n",
        " 'pais': 'Ghana', 'clicou_no_ad': 0\n",
        " }\n",
        "]\n"
      ],
      "execution_count": 2,
      "outputs": []
    },
    {
      "cell_type": "markdown",
      "metadata": {
        "id": "I38IfWVZU-p0"
      },
      "source": [
        "Para iterar pelos elementos da lista, use o código abaixo"
      ]
    },
    {
      "cell_type": "code",
      "metadata": {
        "colab": {
          "base_uri": "https://localhost:8080/"
        },
        "id": "iif7tXWTS56w",
        "outputId": "d8bf65c8-f68b-4bef-9b8c-be89b3ce1d66"
      },
      "source": [
        "for dado_de_usuario in propaganda_online:\n",
        " print(dado_de_usuario)"
      ],
      "execution_count": 3,
      "outputs": [
        {
          "output_type": "stream",
          "name": "stdout",
          "text": [
            "{'tempo_gasto_site': 68.95, 'idade': 35, 'renda_area': 61833.9, 'tempo_gasto_internet': 256.09, 'cidade': 'Wrightburgh', 'pais': 'Tunisia', 'clicou_no_ad': 0}\n",
            "{'tempo_gasto_site': 80.23, 'idade': 31, 'renda_area': 68441.85, 'tempo_gasto_internet': 193.77, 'cidade': 'West Jodi', 'pais': 'Nauru', 'clicou_no_ad': 0}\n",
            "{'tempo_gasto_site': 69.47, 'idade': 26, 'renda_area': 59785.94, 'tempo_gasto_internet': 236.5, 'cidade': 'Davidton', 'pais': 'San Marino', 'clicou_no_ad': 0}\n",
            "{'tempo_gasto_site': 68.37, 'idade': 35, 'renda_area': 73889.99, 'tempo_gasto_internet': 225.58, 'cidade': 'South Manuel', 'pais': 'Iceland', 'clicou_no_ad': 0}\n",
            "{'tempo_gasto_site': 88.91, 'idade': 33, 'renda_area': 53852.85, 'tempo_gasto_internet': 208.36, 'cidade': 'Brandonstad', 'pais': 'Myanmar', 'clicou_no_ad': 0}\n",
            "{'tempo_gasto_site': None, 'idade': 48, 'renda_area': 24593.33, 'tempo_gasto_internet': 131.76, 'cidade': 'Port Jefferybury', 'pais': 'Australia', 'clicou_no_ad': 1}\n",
            "{'tempo_gasto_site': 74.53, 'idade': 30, 'renda_area': 68862.0, 'tempo_gasto_internet': 221.51, 'cidade': 'West Colin', 'pais': 'Grenada'}\n",
            "{'tempo_gasto_site': 69.88, 'idade': 20, 'renda_area': 55642.32, 'tempo_gasto_internet': 183.82, 'cidade': 'Ramirezton', 'pais': 'Ghana', 'clicou_no_ad': 0}\n"
          ]
        }
      ]
    },
    {
      "cell_type": "markdown",
      "metadata": {
        "id": "fUHnUmhjTn3i"
      },
      "source": [
        "# 1.1. Crie uma lista chamada paises com o pais dos usuários com mais de 30 anos.\n"
      ]
    },
    {
      "cell_type": "code",
      "metadata": {
        "colab": {
          "base_uri": "https://localhost:8080/"
        },
        "id": "ckgxJaq2TAOH",
        "outputId": "efcba23b-d9de-4020-8e58-dba245484cb0"
      },
      "source": [
        "def get_countries(lista_de_dicionarios):\n",
        "    lista_de_paises = []\n",
        "    for dicionario in lista_de_dicionarios:\n",
        "      if dicionario ['idade'] > 30:\n",
        "        lista_de_paises.append(dicionario[\"pais\"])\n",
        "    return lista_de_paises\n",
        "\n",
        "\n",
        "print(get_countries(propaganda_online))\n",
        "\n"
      ],
      "execution_count": 4,
      "outputs": [
        {
          "output_type": "stream",
          "name": "stdout",
          "text": [
            "['Tunisia', 'Nauru', 'Iceland', 'Myanmar', 'Australia']\n"
          ]
        }
      ]
    },
    {
      "cell_type": "markdown",
      "metadata": {
        "id": "x8umWkI0xrb7"
      },
      "source": [
        "# 1.2. Crie uma lista chamada leads com a renda dos usuários que clicaram na propaganda\n"
      ]
    },
    {
      "cell_type": "code",
      "metadata": {
        "colab": {
          "base_uri": "https://localhost:8080/"
        },
        "id": "jAbPSQK4xrHE",
        "outputId": "854073f6-5482-4d10-e65a-37ec9cfe0b35"
      },
      "source": [
        "def leads(lista_de_dicionarios):\n",
        "    lista_de_leads = []\n",
        "    for dicionario in lista_de_dicionarios:\n",
        "      try:\n",
        "        if dicionario ['clicou_no_ad'] > 0:\n",
        "          lista_de_leads.append(dicionario[\"renda_area\"])\n",
        "      except Exception:\n",
        "        print('corrigir a exceção')\n",
        "        lista_de_dicionarios[7]['clicou_no_ad'] = None    \n",
        "    return lista_de_leads\n",
        "\n",
        "print(leads(propaganda_online))\n"
      ],
      "execution_count": 5,
      "outputs": [
        {
          "output_type": "stream",
          "name": "stdout",
          "text": [
            "corrigir a exceção\n",
            "corrigir a exceção\n",
            "[24593.33]\n"
          ]
        }
      ]
    },
    {
      "cell_type": "markdown",
      "metadata": {
        "id": "M281Gvt0161V"
      },
      "source": [
        "# ** 1.3. Crie uma lista chamada cidades com a cidade dos usuários que passaram mais de 70 segundos no site.**\n"
      ]
    },
    {
      "cell_type": "code",
      "metadata": {
        "colab": {
          "base_uri": "https://localhost:8080/"
        },
        "id": "owdtHfNp19Yj",
        "outputId": "2cdb0b18-f52f-4a17-d011-592c74ba6707"
      },
      "source": [
        "def city(lista_de_dicionarios):\n",
        "    lista_de_city = []\n",
        "    for dicionario in lista_de_dicionarios:\n",
        "        lista_de_city.append(dicionario[\"cidade\"])\n",
        "    return lista_de_city\n",
        "\n",
        "print(city(propaganda_online))\n",
        "\n",
        "def tempo_gasto_site(lista_de_dicionarios):\n",
        "    lista_de_tempo_gasto_site = []\n",
        "    for dicionario in lista_de_dicionarios:\n",
        "        lista_de_tempo_gasto_site.append(dicionario[\"tempo_gasto_site\"])\n",
        "    return lista_de_tempo_gasto_site\n",
        "\n",
        "print(tempo_gasto_site(propaganda_online))\n",
        "\n",
        "#PERGUNTA!! :) Como eu faço pra pegar/usar as listas sem precisar colocar os elementos delas, tal qual fiz aqui? eu queria pegar já como do \"código\" anterior (não sei explicar, não sei os termos pra isso)\n",
        "city = ['Wrightburgh', 'West Jodi', 'Davidton', 'South Manuel', 'Brandonstad', 'Port Jefferybury', 'West Colin', 'Ramirezton']\n",
        "tempo_gasto_site = [68.95, 80.23, 69.47, 68.37, 88.91, None, 74.53, 69.88]\n",
        "dict = {}\n",
        "for i,j in zip(city, tempo_gasto_site):\n",
        "    dict[i] = j\n",
        "print(dict) \n",
        "\n",
        "\n",
        "def leads(lista_de_dicionarios):\n",
        "    lista_de_leads = []\n",
        "    for dicionario in lista_de_dicionarios:\n",
        "      try:\n",
        "        if dicionario ['tempo_gasto_site'] > 70:\n",
        "          lista_de_leads.append(dicionario[\"cidade\"])\n",
        "      except Exception: \n",
        "        print('corrigir execeção')        \n",
        "    return lista_de_leads \n",
        "\n",
        "print(leads(propaganda_online))\n"
      ],
      "execution_count": 25,
      "outputs": [
        {
          "output_type": "stream",
          "name": "stdout",
          "text": [
            "['Wrightburgh', 'West Jodi', 'Davidton', 'South Manuel', 'Brandonstad', 'Port Jefferybury', 'West Colin', 'Ramirezton']\n",
            "[68.95, 80.23, 69.47, 68.37, 88.91, None, 74.53, 69.88]\n",
            "{'Wrightburgh': 68.95, 'West Jodi': 80.23, 'Davidton': 69.47, 'South Manuel': 68.37, 'Brandonstad': 88.91, 'Port Jefferybury': None, 'West Colin': 74.53, 'Ramirezton': 69.88}\n",
            "corrigir execeção\n",
            "['West Jodi', 'Brandonstad', 'West Colin']\n"
          ]
        }
      ]
    }
  ]
}

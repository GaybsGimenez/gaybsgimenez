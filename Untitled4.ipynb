{
  "nbformat": 4,
  "nbformat_minor": 0,
  "metadata": {
    "colab": {
      "name": "Untitled4.ipynb",
      "provenance": [],
      "authorship_tag": "ABX9TyNxr5jfFA9FPIMZ8+y7jDT9"
    },
    "kernelspec": {
      "name": "python3",
      "display_name": "Python 3"
    },
    "language_info": {
      "name": "python"
    }
  },
  "cells": [
    {
      "cell_type": "markdown",
      "metadata": {
        "id": "ZTIcyLAESevJ"
      },
      "source": [
        "Exercícios\n",
        "1. Dados de interação de usuários com propagandas\n",
        "online\n",
        "Na lista propaganda_online abaixo, estão presente os dados de usuários que acessaram\n",
        "um determinado site e se o mesmo clicou em uma propaganda."
      ]
    },
    {
      "cell_type": "code",
      "metadata": {
        "id": "gi-7AQF0MHxR"
      },
      "source": [
        "propaganda_online = [\n",
        " {'tempo_gasto_site': 68.95, 'idade': 35, 'renda_area': 61833.90,\n",
        " 'tempo_gasto_internet': 256.09, 'cidade': 'Wrightburgh',\n",
        " 'pais': 'Tunisia', 'clicou_no_ad': 0\n",
        " },\n",
        " {'tempo_gasto_site': 80.23, 'idade': 31, 'renda_area': 68441.85,\n",
        " 'tempo_gasto_internet': 193.77, 'cidade': 'West Jodi',\n",
        " 'pais': 'Nauru', 'clicou_no_ad': 0\n",
        " },\n",
        " {'tempo_gasto_site': 69.47, 'idade': 26, 'renda_area': 59785.94,\n",
        " 'tempo_gasto_internet': 236.50, 'cidade': 'Davidton',\n",
        " 'pais': 'San Marino', 'clicou_no_ad': 0\n",
        " },\n",
        " {'tempo_gasto_site': 68.37, 'idade': 35, 'renda_area': 73889.99,\n",
        " 'tempo_gasto_internet': 225.58, 'cidade': 'South Manuel',\n",
        " 'pais': 'Iceland', 'clicou_no_ad': 0\n",
        " },\n",
        " {'tempo_gasto_site': 88.91, 'idade': 33, 'renda_area': 53852.85,\n",
        " 'tempo_gasto_internet': 208.36, 'cidade': 'Brandonstad',\n",
        " 'pais': 'Myanmar', 'clicou_no_ad': 0\n",
        " },\n",
        " {'tempo_gasto_site': None, 'idade': 48, 'renda_area': 24593.33,\n",
        " 'tempo_gasto_internet': 131.76, 'cidade': 'Port Jefferybury',\n",
        " 'pais': 'Australia', 'clicou_no_ad': 1\n",
        " },\n",
        " {'tempo_gasto_site': 74.53, 'idade': 30, 'renda_area': 68862.00,\n",
        " 'tempo_gasto_internet': 221.51, 'cidade': 'West Colin',\n",
        " 'pais': 'Grenada'},\n",
        " {'tempo_gasto_site': 69.88, 'idade': 20, 'renda_area': 55642.32,\n",
        " 'tempo_gasto_internet': 183.82, 'cidade': 'Ramirezton',\n",
        " 'pais': 'Ghana', 'clicou_no_ad': 0\n",
        " }\n",
        "]\n"
      ],
      "execution_count": 2,
      "outputs": []
    },
    {
      "cell_type": "markdown",
      "metadata": {
        "id": "I38IfWVZU-p0"
      },
      "source": [
        "Para iterar pelos elementos da lista, use o código abaixo"
      ]
    },
    {
      "cell_type": "code",
      "metadata": {
        "colab": {
          "base_uri": "https://localhost:8080/"
        },
        "id": "iif7tXWTS56w",
        "outputId": "0b8fbd52-24af-4fdd-e023-9c36f7e189de"
      },
      "source": [
        "for dado_de_usuario in propaganda_online:\n",
        " print(dado_de_usuario)"
      ],
      "execution_count": 3,
      "outputs": [
        {
          "output_type": "stream",
          "name": "stdout",
          "text": [
            "{'tempo_gasto_site': 68.95, 'idade': 35, 'renda_area': 61833.9, 'tempo_gasto_internet': 256.09, 'cidade': 'Wrightburgh', 'pais': 'Tunisia', 'clicou_no_ad': 0}\n",
            "{'tempo_gasto_site': 80.23, 'idade': 31, 'renda_area': 68441.85, 'tempo_gasto_internet': 193.77, 'cidade': 'West Jodi', 'pais': 'Nauru', 'clicou_no_ad': 0}\n",
            "{'tempo_gasto_site': 69.47, 'idade': 26, 'renda_area': 59785.94, 'tempo_gasto_internet': 236.5, 'cidade': 'Davidton', 'pais': 'San Marino', 'clicou_no_ad': 0}\n",
            "{'tempo_gasto_site': 68.37, 'idade': 35, 'renda_area': 73889.99, 'tempo_gasto_internet': 225.58, 'cidade': 'South Manuel', 'pais': 'Iceland', 'clicou_no_ad': 0}\n",
            "{'tempo_gasto_site': 88.91, 'idade': 33, 'renda_area': 53852.85, 'tempo_gasto_internet': 208.36, 'cidade': 'Brandonstad', 'pais': 'Myanmar', 'clicou_no_ad': 0}\n",
            "{'tempo_gasto_site': None, 'idade': 48, 'renda_area': 24593.33, 'tempo_gasto_internet': 131.76, 'cidade': 'Port Jefferybury', 'pais': 'Australia', 'clicou_no_ad': 1}\n",
            "{'tempo_gasto_site': 74.53, 'idade': 30, 'renda_area': 68862.0, 'tempo_gasto_internet': 221.51, 'cidade': 'West Colin', 'pais': 'Grenada'}\n",
            "{'tempo_gasto_site': 69.88, 'idade': 20, 'renda_area': 55642.32, 'tempo_gasto_internet': 183.82, 'cidade': 'Ramirezton', 'pais': 'Ghana', 'clicou_no_ad': 0}\n"
          ]
        }
      ]
    },
    {
      "cell_type": "markdown",
      "metadata": {
        "id": "fUHnUmhjTn3i"
      },
      "source": [
        "1.1. Crie uma lista chamada paises com o pais dos usuários com mais de 30 anos.\n"
      ]
    },
    {
      "cell_type": "code",
      "metadata": {
        "colab": {
          "base_uri": "https://localhost:8080/"
        },
        "id": "ckgxJaq2TAOH",
        "outputId": "4aa566d8-0971-4edd-b082-6d93610dee52"
      },
      "source": [
        "def get_countries(lista_de_dicionarios):\n",
        "    lista_de_paises = []\n",
        "    for dicionario in lista_de_dicionarios:\n",
        "        lista_de_paises.append(dicionario[\"pais\"])\n",
        "    return lista_de_paises\n",
        "\n",
        "\n",
        "def transforma_em_minusculas(lista_de_paises_em_maiuscula):\n",
        "    paises_em_minusculo = []\n",
        "    for pais in lista_de_paises_em_maiuscula:\n",
        "        paises_em_minusculo.append(pais.lower())\n",
        "    return paises_em_minusculo\n",
        "\n",
        "\n",
        "print(transforma_em_minusculas(get_countries(propaganda_online)))\n",
        "\n"
      ],
      "execution_count": 65,
      "outputs": [
        {
          "output_type": "stream",
          "name": "stdout",
          "text": [
            "['tunisia', 'nauru', 'san marino', 'iceland', 'myanmar', 'australia', 'grenada', 'ghana']\n"
          ]
        }
      ]
    },
    {
      "cell_type": "markdown",
      "metadata": {
        "id": "x8umWkI0xrb7"
      },
      "source": [
        "1.2. Crie uma lista chamada leads com a renda dos usuários que clicaram na propaganda\n"
      ]
    },
    {
      "cell_type": "code",
      "metadata": {
        "colab": {
          "base_uri": "https://localhost:8080/"
        },
        "id": "jAbPSQK4xrHE",
        "outputId": "91b6444a-4a64-4460-a544-f2b05ce9b384"
      },
      "source": [
        "def leads(lista_de_dicionarios):\n",
        "    lista_de_leads = []\n",
        "    for dicionario in lista_de_dicionarios:\n",
        "        lista_de_leads.append(dicionario[\"renda_area\"])\n",
        "    return lista_de_leads\n",
        "\n",
        "print(leads(propaganda_online))\n",
        "\n"
      ],
      "execution_count": 76,
      "outputs": [
        {
          "output_type": "stream",
          "name": "stdout",
          "text": [
            "[61833.9, 68441.85, 59785.94, 73889.99, 53852.85, 24593.33, 68862.0, 55642.32]\n"
          ]
        }
      ]
    },
    {
      "cell_type": "markdown",
      "metadata": {
        "id": "M281Gvt0161V"
      },
      "source": [
        "1.3. Crie uma lista chamada cidades com a cidade dos usuários que passaram mais de 70\n",
        "segundos no site.\n"
      ]
    },
    {
      "cell_type": "code",
      "metadata": {
        "colab": {
          "base_uri": "https://localhost:8080/"
        },
        "id": "owdtHfNp19Yj",
        "outputId": "501be656-1fa5-4c5c-bc0e-8c48a6cafe33"
      },
      "source": [
        "def city(lista_de_dicionarios):\n",
        "    lista_de_city = []\n",
        "    for dicionario in lista_de_dicionarios:\n",
        "        lista_de_city.append(dicionario[\"cidade\"])\n",
        "    return lista_de_city\n",
        "\n",
        "print(city(propaganda_online))\n",
        "\n",
        "def tempo_gasto_internet(lista_de_dicionarios):\n",
        "    lista_de_tempo_gasto_internet = []\n",
        "    for dicionario in lista_de_dicionarios:\n",
        "        lista_de_tempo_gasto_internet.append(dicionario[\"tempo_gasto_internet\"])\n",
        "    return lista_de_tempo_gasto_internet\n",
        "\n",
        "print(tempo_gasto_internet(propaganda_online))\n"
      ],
      "execution_count": 80,
      "outputs": [
        {
          "output_type": "stream",
          "name": "stdout",
          "text": [
            "['Wrightburgh', 'West Jodi', 'Davidton', 'South Manuel', 'Brandonstad', 'Port Jefferybury', 'West Colin', 'Ramirezton']\n",
            "[256.09, 193.77, 236.5, 225.58, 208.36, 131.76, 221.51, 183.82]\n"
          ]
        }
      ]
    },
    {
      "cell_type": "code",
      "metadata": {
        "colab": {
          "base_uri": "https://localhost:8080/"
        },
        "id": "j3Ktd-Si5uYW",
        "outputId": "d33ba63a-8cfc-405c-95ae-25487723e1da"
      },
      "source": [
        "lista_cidades = ['Wrightburgh', 'West Jodi', 'Davidton', 'South Manuel', 'Brandonstad', 'Port Jefferybury', 'West Colin', 'Ramirezton']\n",
        "tempo_internet = [256.09, 193.77, 236.5, 225.58, 208.36, 131.76, 221.51, 183.82]\n",
        "    \n",
        "dict = {}\n",
        "\n",
        "for i,j in zip(lista_cidades, tempo_internet):\n",
        "    dict[i] = j\n",
        "print(dict) \n",
        "\n"
      ],
      "execution_count": 87,
      "outputs": [
        {
          "output_type": "stream",
          "name": "stdout",
          "text": [
            "{'Wrightburgh': 256.09, 'West Jodi': 193.77, 'Davidton': 236.5, 'South Manuel': 225.58, 'Brandonstad': 208.36, 'Port Jefferybury': 131.76, 'West Colin': 221.51, 'Ramirezton': 183.82}\n"
          ]
        }
      ]
    }
  ]
}